{
  "nbformat": 4,
  "nbformat_minor": 0,
  "metadata": {
    "colab": {
      "provenance": [],
      "authorship_tag": "ABX9TyMoKRBYRKM10e9hous91Mi2",
      "include_colab_link": true
    },
    "kernelspec": {
      "name": "python3",
      "display_name": "Python 3"
    },
    "language_info": {
      "name": "python"
    }
  },
  "cells": [
    {
      "cell_type": "markdown",
      "metadata": {
        "id": "view-in-github",
        "colab_type": "text"
      },
      "source": [
        "<a href=\"https://colab.research.google.com/github/ashmith77/python-programming-cse-c/blob/main/Python%20program.Day3.ipynb\" target=\"_parent\"><img src=\"https://colab.research.google.com/assets/colab-badge.svg\" alt=\"Open In Colab\"/></a>"
      ]
    },
    {
      "cell_type": "code",
      "source": [
        "squares=[x**2 for x in range(1,6)]\n",
        "print(squares)"
      ],
      "metadata": {
        "colab": {
          "base_uri": "https://localhost:8080/"
        },
        "id": "0lKCpjUKnu7B",
        "outputId": "550c1785-821e-4f50-8383-cd17929fdf2c"
      },
      "execution_count": null,
      "outputs": [
        {
          "output_type": "stream",
          "name": "stdout",
          "text": [
            "[1, 4, 9, 16, 25]\n"
          ]
        }
      ]
    },
    {
      "cell_type": "code",
      "source": [
        "squares=[x**3 for x in range(1,6)]\n",
        "print(squares)"
      ],
      "metadata": {
        "colab": {
          "base_uri": "https://localhost:8080/"
        },
        "id": "UPizCUngsyak",
        "outputId": "ef192e9d-2bf7-46da-adaa-5b41de322d93"
      },
      "execution_count": null,
      "outputs": [
        {
          "output_type": "stream",
          "name": "stdout",
          "text": [
            "[1, 8, 27, 64, 125]\n"
          ]
        }
      ]
    },
    {
      "cell_type": "code",
      "source": [
        "i=1\n",
        "while i<8:\n",
        "  print(i)\n",
        "  i+=1"
      ],
      "metadata": {
        "colab": {
          "base_uri": "https://localhost:8080/"
        },
        "id": "6XHhQpnhtaIf",
        "outputId": "fa2a6725-7eda-47c6-f5cc-8fe1ce8ad2e5"
      },
      "execution_count": null,
      "outputs": [
        {
          "output_type": "stream",
          "name": "stdout",
          "text": [
            "1\n",
            "2\n",
            "3\n",
            "4\n",
            "5\n",
            "6\n",
            "7\n"
          ]
        }
      ]
    },
    {
      "cell_type": "code",
      "source": [
        "for number in [1,2,3,4,5,6,10,11,12]:\n",
        "    if number==6:\n",
        "     continue\n",
        "    print(number)\n",
        "\n",
        "print(\"bye\")"
      ],
      "metadata": {
        "colab": {
          "base_uri": "https://localhost:8080/"
        },
        "id": "gJj0nBt2xkL9",
        "outputId": "a833bc83-ba43-41f1-96aa-f99b2ac830eb"
      },
      "execution_count": null,
      "outputs": [
        {
          "output_type": "stream",
          "name": "stdout",
          "text": [
            "1\n",
            "2\n",
            "3\n",
            "4\n",
            "5\n",
            "10\n",
            "11\n",
            "12\n",
            "bye\n"
          ]
        }
      ]
    },
    {
      "cell_type": "code",
      "source": [
        "for number in [1,2,3,4,5,6,10,11,12]:\n",
        "    if number==6:\n",
        "     break\n",
        "    print(number)\n",
        "\n",
        "print(\"bye\")"
      ],
      "metadata": {
        "colab": {
          "base_uri": "https://localhost:8080/"
        },
        "id": "x-AUpxSZztPH",
        "outputId": "7f5522f0-82db-466f-c976-c24eda243231"
      },
      "execution_count": null,
      "outputs": [
        {
          "output_type": "stream",
          "name": "stdout",
          "text": [
            "1\n",
            "2\n",
            "3\n",
            "4\n",
            "5\n",
            "bye\n"
          ]
        }
      ]
    },
    {
      "cell_type": "code",
      "source": [
        "i=1\n",
        "while i<11:\n",
        "  if i==6:\n",
        "    break\n",
        "    print(i)\n",
        "    i=i+1\n",
        "\n",
        "    print('Bye')"
      ],
      "metadata": {
        "colab": {
          "base_uri": "https://localhost:8080/",
          "height": 211
        },
        "id": "VYcoPwhz0UYE",
        "outputId": "a6545278-9c46-4509-fc6d-58ed470262a9"
      },
      "execution_count": null,
      "outputs": [
        {
          "output_type": "error",
          "ename": "KeyboardInterrupt",
          "evalue": "",
          "traceback": [
            "\u001b[0;31m---------------------------------------------------------------------------\u001b[0m",
            "\u001b[0;31mKeyboardInterrupt\u001b[0m                         Traceback (most recent call last)",
            "\u001b[0;32m<ipython-input-18-88375b3c9db3>\u001b[0m in \u001b[0;36m<cell line: 0>\u001b[0;34m()\u001b[0m\n\u001b[1;32m      1\u001b[0m \u001b[0mi\u001b[0m\u001b[0;34m=\u001b[0m\u001b[0;36m1\u001b[0m\u001b[0;34m\u001b[0m\u001b[0;34m\u001b[0m\u001b[0m\n\u001b[0;32m----> 2\u001b[0;31m \u001b[0;32mwhile\u001b[0m \u001b[0mi\u001b[0m\u001b[0;34m<\u001b[0m\u001b[0;36m11\u001b[0m\u001b[0;34m:\u001b[0m\u001b[0;34m\u001b[0m\u001b[0;34m\u001b[0m\u001b[0m\n\u001b[0m\u001b[1;32m      3\u001b[0m   \u001b[0;32mif\u001b[0m \u001b[0mi\u001b[0m\u001b[0;34m==\u001b[0m\u001b[0;36m6\u001b[0m\u001b[0;34m:\u001b[0m\u001b[0;34m\u001b[0m\u001b[0;34m\u001b[0m\u001b[0m\n\u001b[1;32m      4\u001b[0m     \u001b[0;32mbreak\u001b[0m\u001b[0;34m\u001b[0m\u001b[0;34m\u001b[0m\u001b[0m\n\u001b[1;32m      5\u001b[0m     \u001b[0mprint\u001b[0m\u001b[0;34m(\u001b[0m\u001b[0mi\u001b[0m\u001b[0;34m)\u001b[0m\u001b[0;34m\u001b[0m\u001b[0;34m\u001b[0m\u001b[0m\n",
            "\u001b[0;31mKeyboardInterrupt\u001b[0m: "
          ]
        }
      ]
    },
    {
      "cell_type": "code",
      "source": [
        "i=1\n",
        "\n",
        "\n",
        "if i==2:\n",
        "  break\n",
        "\n",
        "  print('Bye')\n"
      ],
      "metadata": {
        "colab": {
          "base_uri": "https://localhost:8080/",
          "height": 106
        },
        "id": "_UdCg6GW1RXS",
        "outputId": "73f6525a-37d0-47a2-e42f-333efcac15c8"
      },
      "execution_count": null,
      "outputs": [
        {
          "output_type": "error",
          "ename": "SyntaxError",
          "evalue": "'break' outside loop (<ipython-input-17-900fded57ce5>, line 5)",
          "traceback": [
            "\u001b[0;36m  File \u001b[0;32m\"<ipython-input-17-900fded57ce5>\"\u001b[0;36m, line \u001b[0;32m5\u001b[0m\n\u001b[0;31m    break\u001b[0m\n\u001b[0m    ^\u001b[0m\n\u001b[0;31mSyntaxError\u001b[0m\u001b[0;31m:\u001b[0m 'break' outside loop\n"
          ]
        }
      ]
    },
    {
      "cell_type": "code",
      "source": [
        "num=int(input())\n",
        "\n",
        "for i in range(1,11):\n",
        "  print(num,'x',i,'=',num*i)"
      ],
      "metadata": {
        "colab": {
          "base_uri": "https://localhost:8080/"
        },
        "id": "gT8rUa1t14Ij",
        "outputId": "ec22b6cf-0e5d-4c34-e39a-8f97569b4a99"
      },
      "execution_count": null,
      "outputs": [
        {
          "output_type": "stream",
          "name": "stdout",
          "text": [
            "12\n",
            "12 x 1 = 12\n",
            "12 x 2 = 24\n",
            "12 x 3 = 36\n",
            "12 x 4 = 48\n",
            "12 x 5 = 60\n",
            "12 x 6 = 72\n",
            "12 x 7 = 84\n",
            "12 x 8 = 96\n",
            "12 x 9 = 108\n",
            "12 x 10 = 120\n"
          ]
        }
      ]
    },
    {
      "cell_type": "code",
      "source": [
        "num=int(input())\n",
        "\n",
        "for i in range(1,11,2):\n",
        "  print(num,'x',i,'=',num*i)"
      ],
      "metadata": {
        "colab": {
          "base_uri": "https://localhost:8080/"
        },
        "id": "P54AMtkt3PKe",
        "outputId": "33b0f193-117e-49aa-9ef1-f686431fed9d"
      },
      "execution_count": 15,
      "outputs": [
        {
          "output_type": "stream",
          "name": "stdout",
          "text": [
            "12\n",
            "12 x 1 = 12\n",
            "12 x 3 = 36\n",
            "12 x 5 = 60\n",
            "12 x 7 = 84\n",
            "12 x 9 = 108\n"
          ]
        }
      ]
    },
    {
      "cell_type": "code",
      "source": [
        "num=320\n",
        "print(\"The  factors  of \", num  , \"are:\" , end=\" \" )\n",
        "for i in range (1,num+1):\n",
        "  if num %i ==0:\n",
        "\n",
        "    print(i,end=' ')"
      ],
      "metadata": {
        "colab": {
          "base_uri": "https://localhost:8080/"
        },
        "id": "rW4uB_0Y5VDn",
        "outputId": "5774da72-948f-4738-deea-0635013fc543"
      },
      "execution_count": 16,
      "outputs": [
        {
          "output_type": "stream",
          "name": "stdout",
          "text": [
            "The  factors  of  320 are: 1 2 4 5 8 10 16 20 32 40 64 80 160 320 "
          ]
        }
      ]
    },
    {
      "cell_type": "code",
      "source": [
        "num=320\n",
        "factors=[i for i in range(1,num+1) if num % i ==0]\n",
        "print(\"The factors of\" ,num, \"are:\" ,factors)"
      ],
      "metadata": {
        "colab": {
          "base_uri": "https://localhost:8080/"
        },
        "id": "4HoDYh3A9mfM",
        "outputId": "1ec832d9-643f-4250-bdb3-4676ad2cf1bd"
      },
      "execution_count": null,
      "outputs": [
        {
          "output_type": "stream",
          "name": "stdout",
          "text": [
            "The factors of 320 are: [1, 2, 4, 5, 8, 10, 16, 20, 32, 40, 64, 80, 160, 320]\n"
          ]
        }
      ]
    },
    {
      "cell_type": "code",
      "source": [],
      "metadata": {
        "id": "7lpE2vpV-2nw"
      },
      "execution_count": null,
      "outputs": []
    },
    {
      "cell_type": "markdown",
      "source": [
        "Pyramid programming"
      ],
      "metadata": {
        "id": "8TC92EY4A81W"
      }
    },
    {
      "cell_type": "code",
      "source": [
        "rows=9\n",
        "for i in range(1, rows +1):\n",
        "  for j in range(i):\n",
        "    print(\"abcd\", end =\" \")\n",
        "  print()"
      ],
      "metadata": {
        "colab": {
          "base_uri": "https://localhost:8080/"
        },
        "id": "huoAFHUdBDoO",
        "outputId": "8597f317-f3c9-47ea-f519-9d0a1641136d"
      },
      "execution_count": null,
      "outputs": [
        {
          "output_type": "stream",
          "name": "stdout",
          "text": [
            "abcd \n",
            "abcd abcd \n",
            "abcd abcd abcd \n",
            "abcd abcd abcd abcd \n",
            "abcd abcd abcd abcd abcd \n",
            "abcd abcd abcd abcd abcd abcd \n",
            "abcd abcd abcd abcd abcd abcd abcd \n",
            "abcd abcd abcd abcd abcd abcd abcd abcd \n",
            "abcd abcd abcd abcd abcd abcd abcd abcd abcd \n"
          ]
        }
      ]
    },
    {
      "cell_type": "code",
      "source": [
        "rows=int(input(\"enter the number of rows:\"))\n",
        "for num in range(1, rows +1):\n",
        "  for j in range(num):\n",
        "    print(\",,\", end =\" \")\n",
        "  print()"
      ],
      "metadata": {
        "colab": {
          "base_uri": "https://localhost:8080/"
        },
        "id": "AyoBZPM0BgrY",
        "outputId": "e8017a06-5097-4581-e8f3-da351a315741"
      },
      "execution_count": null,
      "outputs": [
        {
          "output_type": "stream",
          "name": "stdout",
          "text": [
            "enter the number of rows:9\n",
            ",, \n",
            ",, ,, \n",
            ",, ,, ,, \n",
            ",, ,, ,, ,, \n",
            ",, ,, ,, ,, ,, \n",
            ",, ,, ,, ,, ,, ,, \n",
            ",, ,, ,, ,, ,, ,, ,, \n",
            ",, ,, ,, ,, ,, ,, ,, ,, \n",
            ",, ,, ,, ,, ,, ,, ,, ,, ,, \n"
          ]
        }
      ]
    },
    {
      "cell_type": "markdown",
      "source": [
        "FUNCTIONS"
      ],
      "metadata": {
        "id": "C7_4Gxv5aqh3"
      }
    },
    {
      "cell_type": "code",
      "source": [
        "def name():\n",
        "  print(\"What's your name?\")\n",
        "\n",
        "  name()"
      ],
      "metadata": {
        "id": "HoXKBdhEDsy7"
      },
      "execution_count": 29,
      "outputs": []
    },
    {
      "cell_type": "code",
      "source": [
        "def add_numbers(a,b):\n",
        "  sum=a+b\n",
        "\n",
        "  return sum\n",
        "\n",
        "  result=add_numbers(2,3)\n",
        "  print(result)\n"
      ],
      "metadata": {
        "id": "w0RGzjfpaooc"
      },
      "execution_count": 35,
      "outputs": []
    },
    {
      "cell_type": "code",
      "source": [
        "def product_info(product_name,price):\n",
        "  print(\"product name:\" + product_name)\n",
        "\n",
        "  print(\"Price:\" +str(price))\n",
        "  product_info(\"white T-shirt \", 15)"
      ],
      "metadata": {
        "id": "oa5yzUvXeKy6"
      },
      "execution_count": 55,
      "outputs": []
    },
    {
      "cell_type": "code",
      "source": [
        "\n",
        "\n",
        "def product_info(product_name,price):\n",
        "  print(\"product name:\" + product_name)\n",
        "\n",
        "  print(\"Price:\" +str(price))A\n",
        "  product_info(\"white T-shirt \", 15)\n"
      ],
      "metadata": {
        "id": "x9JFX4AHhPuC"
      },
      "execution_count": 60,
      "outputs": []
    },
    {
      "cell_type": "code",
      "source": [
        "add=lambda a,b:a+b\n",
        "result=add(3,5)\n",
        "result"
      ],
      "metadata": {
        "colab": {
          "base_uri": "https://localhost:8080/"
        },
        "id": "M9DO0lh8iZ1v",
        "outputId": "5640c8ee-83a0-469b-8de0-d097b975582a"
      },
      "execution_count": 57,
      "outputs": [
        {
          "output_type": "execute_result",
          "data": {
            "text/plain": [
              "8"
            ]
          },
          "metadata": {},
          "execution_count": 57
        }
      ]
    },
    {
      "cell_type": "code",
      "source": [
        "a=[1,2,3,4,5]\n",
        "b=[x**2 for x in a]\n",
        "b"
      ],
      "metadata": {
        "colab": {
          "base_uri": "https://localhost:8080/"
        },
        "id": "CBszbL3mi9A9",
        "outputId": "29669c99-22f1-4b95-b914-d0422ef9f2e7"
      },
      "execution_count": 59,
      "outputs": [
        {
          "output_type": "execute_result",
          "data": {
            "text/plain": [
              "[1, 4, 9, 16, 25]"
            ]
          },
          "metadata": {},
          "execution_count": 59
        }
      ]
    },
    {
      "cell_type": "code",
      "source": [
        "def add(x, y):\n",
        "    return x + y\n",
        "\n",
        "def subtract(x, y):\n",
        "    return x - y\n",
        "\n",
        "def multiply(x, y):\n",
        "    return x * y\n",
        "\n",
        "def divide(x, y):\n",
        "    if y == 0:\n",
        "        return \"Cannot divide by zero\"\n",
        "    return x / y\n",
        "\n",
        "while True:\n",
        "    print(\"Select operation:\")\n",
        "    print(\"1. Add\")\n",
        "    print(\"2. Subtract\")\n",
        "    print(\"3. Multiply\")\n",
        "    print(\"4. Divide\")\n",
        "    print(\"5. Exit\")\n",
        "\n",
        "    choice = input(\"Enter choice (1/2/3/4/5): \")\n",
        "\n",
        "    if choice == '5':\n",
        "        break\n",
        "\n",
        "    num1 = float(input(\"Enter first number: \"))\n",
        "    num2 = float(input(\"Enter second number: \"))\n",
        "\n",
        "    if choice == '1':\n",
        "        print(num1, \"+\", num2, \"=\", add(num1, num2))\n",
        "    elif choice == '2':\n",
        "        print(num1, \"-\", num2, \"=\", subtract(num1, num2))\n",
        "    elif choice == '3':\n",
        "        print(num1, \"*\", num2, \"=\", multiply(num1, num2))\n",
        "    elif choice == '4':\n",
        "        print(num1, \"/\", num2, \"=\", divide(num1, num2))\n",
        "    else:\n",
        "        print(\"Invalid input\")\n"
      ],
      "metadata": {
        "colab": {
          "base_uri": "https://localhost:8080/"
        },
        "id": "vt3b3dBQrdVp",
        "outputId": "ab7054d1-6287-4abb-a911-fac1515d18ea"
      },
      "execution_count": 61,
      "outputs": [
        {
          "name": "stdout",
          "output_type": "stream",
          "text": [
            "Select operation:\n",
            "1. Add\n",
            "2. Subtract\n",
            "3. Multiply\n",
            "4. Divide\n",
            "5. Exit\n",
            "Enter choice (1/2/3/4/5): 3\n",
            "Enter first number: 1\n",
            "Enter second number: 2\n",
            "1.0 * 2.0 = 2.0\n",
            "Select operation:\n",
            "1. Add\n",
            "2. Subtract\n",
            "3. Multiply\n",
            "4. Divide\n",
            "5. Exit\n",
            "Enter choice (1/2/3/4/5): 4\n",
            "Enter first number: 1\n",
            "Enter second number: 2\n",
            "1.0 / 2.0 = 0.5\n",
            "Select operation:\n",
            "1. Add\n",
            "2. Subtract\n",
            "3. Multiply\n",
            "4. Divide\n",
            "5. Exit\n",
            "Enter choice (1/2/3/4/5): 3\n",
            "Enter first number: 5\n",
            "Enter second number: 4\n",
            "5.0 * 4.0 = 20.0\n",
            "Select operation:\n",
            "1. Add\n",
            "2. Subtract\n",
            "3. Multiply\n",
            "4. Divide\n",
            "5. Exit\n",
            "Enter choice (1/2/3/4/5): 5\n"
          ]
        }
      ]
    },
    {
      "cell_type": "code",
      "source": [],
      "metadata": {
        "id": "-BoBZTeYu086"
      },
      "execution_count": 61,
      "outputs": []
    }
  ]
}